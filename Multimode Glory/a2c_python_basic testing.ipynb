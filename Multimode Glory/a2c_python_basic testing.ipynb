{
 "cells": [
  {
   "cell_type": "code",
   "execution_count": 1,
   "id": "213686b6",
   "metadata": {
    "collapsed": false,
    "jupyter": {
     "outputs_hidden": false
    }
   },
   "outputs": [
    {
     "name": "stdout",
     "output_type": "stream",
     "text": [
      "None\n",
      "True\n"
     ]
    }
   ],
   "source": [
    "def noret():\n",
    "    pass\n",
    "\n",
    "def trueret():\n",
    "    return True\n",
    "\n",
    "print( noret())\n",
    "print( trueret())"
   ]
  },
  {
   "cell_type": "code",
   "execution_count": 2,
   "id": "f3042cd2",
   "metadata": {
    "collapsed": false,
    "jupyter": {
     "outputs_hidden": false
    }
   },
   "outputs": [
    {
     "name": "stdout",
     "output_type": "stream",
     "text": [
      "신규\n"
     ]
    }
   ],
   "source": [
    "cmd = '신규 환영'\n",
    "print( cmd.split()[0].strip())"
   ]
  },
  {
   "cell_type": "code",
   "execution_count": 3,
   "id": "44b80010",
   "metadata": {
    "collapsed": false,
    "jupyter": {
     "outputs_hidden": false
    }
   },
   "outputs": [
    {
     "name": "stdout",
     "output_type": "stream",
     "text": [
      "환영\n"
     ]
    }
   ],
   "source": [
    "line = '신규 환영'\n",
    "basic = line.split(None, 1)[1]\n",
    "print( basic)"
   ]
  },
  {
   "cell_type": "code",
   "execution_count": 4,
   "id": "a5de61d7",
   "metadata": {
    "collapsed": false,
    "jupyter": {
     "outputs_hidden": false
    }
   },
   "outputs": [
    {
     "name": "stdout",
     "output_type": "stream",
     "text": [
      "\n",
      "Welcome to Python 3.9's help utility!\n",
      "\n",
      "If this is your first time using Python, you should definitely check out\n",
      "the tutorial on the Internet at https://docs.python.org/3.9/tutorial/.\n",
      "\n",
      "Enter the name of any module, keyword, or topic to get help on writing\n",
      "Python programs and using Python modules.  To quit this help utility and\n",
      "return to the interpreter, just type \"quit\".\n",
      "\n",
      "To get a list of available modules, keywords, symbols, or topics, type\n",
      "\"modules\", \"keywords\", \"symbols\", or \"topics\".  Each module also comes\n",
      "with a one-line summary of what it does; to list the modules whose name\n",
      "or summary contain a given string such as \"spam\", type \"modules spam\".\n",
      "\n"
     ]
    },
    {
     "name": "stdin",
     "output_type": "stream",
     "text": [
      "help>  hello\n"
     ]
    },
    {
     "name": "stdout",
     "output_type": "stream",
     "text": [
      "No Python documentation found for 'hello'.\n",
      "Use help() to get the interactive help utility.\n",
      "Use help(str) for help on the str class.\n",
      "\n"
     ]
    },
    {
     "name": "stdin",
     "output_type": "stream",
     "text": [
      "help>  exit\n"
     ]
    },
    {
     "name": "stdout",
     "output_type": "stream",
     "text": [
      "No Python documentation found for 'exit'.\n",
      "Use help() to get the interactive help utility.\n",
      "Use help(str) for help on the str class.\n",
      "\n"
     ]
    },
    {
     "name": "stdin",
     "output_type": "stream",
     "text": [
      "help>  exit()\n"
     ]
    },
    {
     "name": "stdout",
     "output_type": "stream",
     "text": [
      "No Python documentation found for 'exit()'.\n",
      "Use help() to get the interactive help utility.\n",
      "Use help(str) for help on the str class.\n",
      "\n"
     ]
    },
    {
     "name": "stdin",
     "output_type": "stream",
     "text": [
      "help>  \n"
     ]
    },
    {
     "name": "stdout",
     "output_type": "stream",
     "text": [
      "\n",
      "You are now leaving help and returning to the Python interpreter.\n",
      "If you want to ask for help on a particular object directly from the\n",
      "interpreter, you can type \"help(object)\".  Executing \"help('string')\"\n",
      "has the same effect as typing a particular string at the help> prompt.\n"
     ]
    }
   ],
   "source": [
    "help()"
   ]
  },
  {
   "cell_type": "code",
   "execution_count": 5,
   "id": "3d9ffe45",
   "metadata": {
    "collapsed": false,
    "jupyter": {
     "outputs_hidden": false
    }
   },
   "outputs": [
    {
     "name": "stdout",
     "output_type": "stream",
     "text": [
      "['신규', '환영']\n",
      "2\n"
     ]
    }
   ],
   "source": [
    "line = '신규 환영'\n",
    "words = line.split()\n",
    "print( words)\n",
    "print( len(words))"
   ]
  },
  {
   "cell_type": "code",
   "execution_count": 6,
   "id": "1f7beec6",
   "metadata": {
    "collapsed": false,
    "jupyter": {
     "outputs_hidden": false
    }
   },
   "outputs": [
    {
     "ename": "SyntaxError",
     "evalue": "Missing parentheses in call to 'print'. Did you mean print(a)? (1206746064.py, line 3)",
     "output_type": "error",
     "traceback": [
      "\u001b[0;36m  File \u001b[0;32m\"/tmp/ipykernel_1343/1206746064.py\"\u001b[0;36m, line \u001b[0;32m3\u001b[0m\n\u001b[0;31m    print a\u001b[0m\n\u001b[0m          ^\u001b[0m\n\u001b[0;31mSyntaxError\u001b[0m\u001b[0;31m:\u001b[0m Missing parentheses in call to 'print'. Did you mean print(a)?\n"
     ]
    }
   ],
   "source": [
    "def join_test():\n",
    "    a = \" \".join( [\"xyz\", \"hello\"])\n",
    "    print a\n",
    "    b = \"xxx\" + \" \" + \"yyy\"\n",
    "    print b\n",
    "\n",
    "join_test()"
   ]
  },
  {
   "cell_type": "code",
   "execution_count": 7,
   "id": "33d43503",
   "metadata": {
    "collapsed": false,
    "jupyter": {
     "outputs_hidden": false
    }
   },
   "outputs": [
    {
     "name": "stdout",
     "output_type": "stream",
     "text": [
      "hello you\n"
     ]
    }
   ],
   "source": [
    "aa = 'hello me'\n",
    "aa = aa.replace( 'me', 'you')\n",
    "print aa"
   ]
  },
  {
   "cell_type": "code",
   "execution_count": 8,
   "id": "c3d9aa04",
   "metadata": {
    "collapsed": false,
    "jupyter": {
     "outputs_hidden": false
    }
   },
   "outputs": [
    {
     "name": "stdout",
     "output_type": "stream",
     "text": [
      "6\n"
     ]
    }
   ],
   "source": [
    "aa = 'hello me'\n",
    "print aa.find('me')"
   ]
  },
  {
   "cell_type": "code",
   "execution_count": 1,
   "id": "809b783d",
   "metadata": {
    "collapsed": false,
    "jupyter": {
     "outputs_hidden": false
    }
   },
   "outputs": [
    {
     "name": "stdout",
     "output_type": "stream",
     "text": [
      "1\n"
     ]
    }
   ],
   "source": [
    "xx = [1, 2, 3]\n",
    "print xx.index(2)"
   ]
  },
  {
   "cell_type": "code",
   "execution_count": 3,
   "id": "2981abfb",
   "metadata": {
    "collapsed": false,
    "jupyter": {
     "outputs_hidden": false
    }
   },
   "outputs": [
    {
     "data": {
      "text/plain": [
       "2"
      ]
     },
     "execution_count": 3,
     "metadata": {},
     "output_type": "execute_result"
    }
   ],
   "source": [
    "aa = 'hello me'\n",
    "len(aa.split())"
   ]
  },
  {
   "cell_type": "code",
   "execution_count": 2,
   "id": "5d41fc2a",
   "metadata": {
    "collapsed": false,
    "jupyter": {
     "outputs_hidden": false
    }
   },
   "outputs": [
    {
     "name": "stdout",
     "output_type": "stream",
     "text": [
      "한글\n",
      "abcde\n",
      "3\n",
      "6\n",
      "True\n"
     ]
    }
   ],
   "source": [
    "str = \"한글을\"\n",
    "str_eng = \"abcdef\"\n",
    "print( str[:-1])\n",
    "print( str_eng[:-1])\n",
    "print( len(str))\n",
    "print( len(str_eng))\n",
    "\n",
    "print(str.endswith('을'))"
   ]
  },
  {
   "cell_type": "code",
   "execution_count": 5,
   "id": "b534661f",
   "metadata": {
    "collapsed": false,
    "jupyter": {
     "outputs_hidden": false
    }
   },
   "outputs": [
    {
     "name": "stdout",
     "output_type": "stream",
     "text": [
      "no index\n"
     ]
    }
   ],
   "source": [
    "arr = [1, 3, 5]\n",
    "try:\n",
    "    print( arr.index(6))\n",
    "except ValueError:\n",
    "    print( 'no index')"
   ]
  },
  {
   "cell_type": "code",
   "execution_count": null,
   "id": "61dd1deb",
   "metadata": {
    "collapsed": false,
    "jupyter": {
     "outputs_hidden": false
    }
   },
   "outputs": [],
   "source": []
  }
 ],
 "metadata": {
  "kernelspec": {
   "display_name": "Python 3 (ipykernel)",
   "language": "python",
   "name": "python3"
  },
  "language_info": {
   "codemirror_mode": {
    "name": "ipython",
    "version": 3
   },
   "file_extension": ".py",
   "mimetype": "text/x-python",
   "name": "python",
   "nbconvert_exporter": "python",
   "pygments_lexer": "ipython3",
   "version": "3.9.7"
  }
 },
 "nbformat": 4,
 "nbformat_minor": 5
}
