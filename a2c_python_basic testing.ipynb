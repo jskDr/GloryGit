{
 "metadata": {
  "name": ""
 },
 "nbformat": 3,
 "nbformat_minor": 0,
 "worksheets": [
  {
   "cells": [
    {
     "cell_type": "code",
     "collapsed": false,
     "input": [
      "def noret():\n",
      "    pass\n",
      "\n",
      "def trueret():\n",
      "    return True\n",
      "\n",
      "print( noret())\n",
      "print( trueret())"
     ],
     "language": "python",
     "metadata": {},
     "outputs": [
      {
       "output_type": "stream",
       "stream": "stdout",
       "text": [
        "None\n",
        "True\n"
       ]
      }
     ],
     "prompt_number": 8
    },
    {
     "cell_type": "code",
     "collapsed": false,
     "input": [
      "cmd = '\uc2e0\uaddc \ud658\uc601'\n",
      "print( cmd.split()[0].strip())"
     ],
     "language": "python",
     "metadata": {},
     "outputs": [
      {
       "output_type": "stream",
       "stream": "stdout",
       "text": [
        "\uc2e0\uaddc\n"
       ]
      }
     ],
     "prompt_number": 12
    },
    {
     "cell_type": "code",
     "collapsed": false,
     "input": [
      "line = '\uc2e0\uaddc \ud658\uc601'\n",
      "basic = line.split(None, 1)[1]\n",
      "print( basic)"
     ],
     "language": "python",
     "metadata": {},
     "outputs": [
      {
       "output_type": "stream",
       "stream": "stdout",
       "text": [
        "\ud658\uc601\n"
       ]
      }
     ],
     "prompt_number": 28
    },
    {
     "cell_type": "code",
     "collapsed": false,
     "input": [
      "help()"
     ],
     "language": "python",
     "metadata": {},
     "outputs": [
      {
       "output_type": "stream",
       "stream": "stdout",
       "text": [
        "\n",
        "Welcome to Python 3.4!  This is the interactive help utility.\n",
        "\n",
        "If this is your first time using Python, you should definitely check out\n",
        "the tutorial on the Internet at http://docs.python.org/3.4/tutorial/.\n",
        "\n",
        "Enter the name of any module, keyword, or topic to get help on writing\n",
        "Python programs and using Python modules.  To quit this help utility and\n",
        "return to the interpreter, just type \"quit\".\n",
        "\n",
        "To get a list of available modules, keywords, symbols, or topics, type\n",
        "\"modules\", \"keywords\", \"symbols\", or \"topics\".  Each module also comes\n",
        "with a one-line summary of what it does; to list the modules whose name\n",
        "or summary contain a given string such as \"spam\", type \"modules spam\".\n",
        "\n"
       ]
      },
      {
       "name": "stdout",
       "output_type": "stream",
       "stream": "stdout",
       "text": [
        "help> print\n"
       ]
      },
      {
       "output_type": "stream",
       "stream": "stdout",
       "text": [
        "Help on built-in function print in module builtins:\n",
        "\n",
        "print(...)\n",
        "    print(value, ..., sep=' ', end='\\n', file=sys.stdout, flush=False)\n",
        "    \n",
        "    Prints the values to a stream, or to sys.stdout by default.\n",
        "    Optional keyword arguments:\n",
        "    file:  a file-like object (stream); defaults to the current sys.stdout.\n",
        "    sep:   string inserted between values, default a space.\n",
        "    end:   string appended after the last value, default a newline.\n",
        "    flush: whether to forcibly flush the stream.\n",
        "\n"
       ]
      },
      {
       "name": "stdout",
       "output_type": "stream",
       "stream": "stdout",
       "text": [
        "help> quit\n"
       ]
      },
      {
       "output_type": "stream",
       "stream": "stdout",
       "text": [
        "\n",
        "You are now leaving help and returning to the Python interpreter.\n",
        "If you want to ask for help on a particular object directly from the\n",
        "interpreter, you can type \"help(object)\".  Executing \"help('string')\"\n",
        "has the same effect as typing a particular string at the help> prompt.\n"
       ]
      }
     ],
     "prompt_number": 19
    },
    {
     "cell_type": "code",
     "collapsed": false,
     "input": [
      "line = '\uc2e0\uaddc \ud658\uc601'\n",
      "words = line.split()\n",
      "print( words)\n",
      "print( len(words))"
     ],
     "language": "python",
     "metadata": {},
     "outputs": [
      {
       "output_type": "stream",
       "stream": "stdout",
       "text": [
        "['\uc2e0\uaddc', '\ud658\uc601']\n",
        "2\n"
       ]
      }
     ],
     "prompt_number": 37
    },
    {
     "cell_type": "code",
     "collapsed": false,
     "input": [
      "def join_test():\n",
      "    a = \" \".join( [\"xyz\", \"hello\"])\n",
      "    print a\n",
      "    b = \"xxx\" + \" \" + \"yyy\"\n",
      "    print b\n",
      "\n",
      "join_test()"
     ],
     "language": "python",
     "metadata": {},
     "outputs": [
      {
       "output_type": "stream",
       "stream": "stdout",
       "text": [
        "xyz hello\n",
        "xxx yyy\n"
       ]
      }
     ],
     "prompt_number": 4
    },
    {
     "cell_type": "code",
     "collapsed": false,
     "input": [
      "aa = 'hello me'\n",
      "aa = aa.replace( 'me', 'you')\n",
      "print aa"
     ],
     "language": "python",
     "metadata": {},
     "outputs": [
      {
       "output_type": "stream",
       "stream": "stdout",
       "text": [
        "hello you\n"
       ]
      }
     ],
     "prompt_number": 7
    },
    {
     "cell_type": "code",
     "collapsed": false,
     "input": [
      "aa = 'hello me'\n",
      "print aa.find('me')"
     ],
     "language": "python",
     "metadata": {},
     "outputs": [
      {
       "output_type": "stream",
       "stream": "stdout",
       "text": [
        "6\n"
       ]
      }
     ],
     "prompt_number": 8
    },
    {
     "cell_type": "code",
     "collapsed": false,
     "input": [
      "xx = [1, 2, 3]\n",
      "print xx.search(2)"
     ],
     "language": "python",
     "metadata": {},
     "outputs": [
      {
       "ename": "AttributeError",
       "evalue": "'list' object has no attribute 'search'",
       "output_type": "pyerr",
       "traceback": [
        "\u001b[0;31m---------------------------------------------------------------------------\u001b[0m\n\u001b[0;31mAttributeError\u001b[0m                            Traceback (most recent call last)",
        "\u001b[0;32m<ipython-input-10-481f08b8316f>\u001b[0m in \u001b[0;36m<module>\u001b[0;34m()\u001b[0m\n\u001b[1;32m      1\u001b[0m \u001b[0mxx\u001b[0m \u001b[0;34m=\u001b[0m \u001b[0;34m[\u001b[0m\u001b[0;36m1\u001b[0m\u001b[0;34m,\u001b[0m \u001b[0;36m2\u001b[0m\u001b[0;34m,\u001b[0m \u001b[0;36m3\u001b[0m\u001b[0;34m]\u001b[0m\u001b[0;34m\u001b[0m\u001b[0m\n\u001b[0;32m----> 2\u001b[0;31m \u001b[0;32mprint\u001b[0m \u001b[0mxx\u001b[0m\u001b[0;34m.\u001b[0m\u001b[0msearch\u001b[0m\u001b[0;34m(\u001b[0m\u001b[0;36m2\u001b[0m\u001b[0;34m)\u001b[0m\u001b[0;34m\u001b[0m\u001b[0m\n\u001b[0m",
        "\u001b[0;31mAttributeError\u001b[0m: 'list' object has no attribute 'search'"
       ]
      }
     ],
     "prompt_number": 10
    },
    {
     "cell_type": "code",
     "collapsed": false,
     "input": [],
     "language": "python",
     "metadata": {},
     "outputs": []
    }
   ],
   "metadata": {}
  }
 ]
}